{
 "cells": [
  {
   "cell_type": "code",
   "execution_count": 2,
   "id": "0ba277e4",
   "metadata": {},
   "outputs": [],
   "source": [
    "import numpy as np\n",
    "import pandas as pd\n",
    "import seaborn as sb\n",
    "import matplotlib.pyplot as plt\n",
    "sb.set()"
   ]
  },
  {
   "cell_type": "code",
   "execution_count": 3,
   "id": "0505d48e",
   "metadata": {},
   "outputs": [],
   "source": [
    "df = pd.read_csv(\"all_stocks_5yr.csv\")"
   ]
  },
  {
   "cell_type": "code",
   "execution_count": 4,
   "id": "bfe2b341",
   "metadata": {},
   "outputs": [
    {
     "data": {
      "text/html": [
       "<div>\n",
       "<style scoped>\n",
       "    .dataframe tbody tr th:only-of-type {\n",
       "        vertical-align: middle;\n",
       "    }\n",
       "\n",
       "    .dataframe tbody tr th {\n",
       "        vertical-align: top;\n",
       "    }\n",
       "\n",
       "    .dataframe thead th {\n",
       "        text-align: right;\n",
       "    }\n",
       "</style>\n",
       "<table border=\"1\" class=\"dataframe\">\n",
       "  <thead>\n",
       "    <tr style=\"text-align: right;\">\n",
       "      <th></th>\n",
       "      <th>date</th>\n",
       "      <th>open</th>\n",
       "      <th>high</th>\n",
       "      <th>low</th>\n",
       "      <th>close</th>\n",
       "      <th>volume</th>\n",
       "      <th>Name</th>\n",
       "    </tr>\n",
       "  </thead>\n",
       "  <tbody>\n",
       "    <tr>\n",
       "      <th>0</th>\n",
       "      <td>2013-02-08</td>\n",
       "      <td>15.07</td>\n",
       "      <td>15.12</td>\n",
       "      <td>14.63</td>\n",
       "      <td>14.75</td>\n",
       "      <td>8407500</td>\n",
       "      <td>AAL</td>\n",
       "    </tr>\n",
       "    <tr>\n",
       "      <th>1</th>\n",
       "      <td>2013-02-11</td>\n",
       "      <td>14.89</td>\n",
       "      <td>15.01</td>\n",
       "      <td>14.26</td>\n",
       "      <td>14.46</td>\n",
       "      <td>8882000</td>\n",
       "      <td>AAL</td>\n",
       "    </tr>\n",
       "    <tr>\n",
       "      <th>2</th>\n",
       "      <td>2013-02-12</td>\n",
       "      <td>14.45</td>\n",
       "      <td>14.51</td>\n",
       "      <td>14.10</td>\n",
       "      <td>14.27</td>\n",
       "      <td>8126000</td>\n",
       "      <td>AAL</td>\n",
       "    </tr>\n",
       "    <tr>\n",
       "      <th>3</th>\n",
       "      <td>2013-02-13</td>\n",
       "      <td>14.30</td>\n",
       "      <td>14.94</td>\n",
       "      <td>14.25</td>\n",
       "      <td>14.66</td>\n",
       "      <td>10259500</td>\n",
       "      <td>AAL</td>\n",
       "    </tr>\n",
       "    <tr>\n",
       "      <th>4</th>\n",
       "      <td>2013-02-14</td>\n",
       "      <td>14.94</td>\n",
       "      <td>14.96</td>\n",
       "      <td>13.16</td>\n",
       "      <td>13.99</td>\n",
       "      <td>31879900</td>\n",
       "      <td>AAL</td>\n",
       "    </tr>\n",
       "    <tr>\n",
       "      <th>...</th>\n",
       "      <td>...</td>\n",
       "      <td>...</td>\n",
       "      <td>...</td>\n",
       "      <td>...</td>\n",
       "      <td>...</td>\n",
       "      <td>...</td>\n",
       "      <td>...</td>\n",
       "    </tr>\n",
       "    <tr>\n",
       "      <th>619035</th>\n",
       "      <td>2018-02-01</td>\n",
       "      <td>76.84</td>\n",
       "      <td>78.27</td>\n",
       "      <td>76.69</td>\n",
       "      <td>77.82</td>\n",
       "      <td>2982259</td>\n",
       "      <td>ZTS</td>\n",
       "    </tr>\n",
       "    <tr>\n",
       "      <th>619036</th>\n",
       "      <td>2018-02-02</td>\n",
       "      <td>77.53</td>\n",
       "      <td>78.12</td>\n",
       "      <td>76.73</td>\n",
       "      <td>76.78</td>\n",
       "      <td>2595187</td>\n",
       "      <td>ZTS</td>\n",
       "    </tr>\n",
       "    <tr>\n",
       "      <th>619037</th>\n",
       "      <td>2018-02-05</td>\n",
       "      <td>76.64</td>\n",
       "      <td>76.92</td>\n",
       "      <td>73.18</td>\n",
       "      <td>73.83</td>\n",
       "      <td>2962031</td>\n",
       "      <td>ZTS</td>\n",
       "    </tr>\n",
       "    <tr>\n",
       "      <th>619038</th>\n",
       "      <td>2018-02-06</td>\n",
       "      <td>72.74</td>\n",
       "      <td>74.56</td>\n",
       "      <td>72.13</td>\n",
       "      <td>73.27</td>\n",
       "      <td>4924323</td>\n",
       "      <td>ZTS</td>\n",
       "    </tr>\n",
       "    <tr>\n",
       "      <th>619039</th>\n",
       "      <td>2018-02-07</td>\n",
       "      <td>72.70</td>\n",
       "      <td>75.00</td>\n",
       "      <td>72.69</td>\n",
       "      <td>73.86</td>\n",
       "      <td>4534912</td>\n",
       "      <td>ZTS</td>\n",
       "    </tr>\n",
       "  </tbody>\n",
       "</table>\n",
       "<p>619040 rows × 7 columns</p>\n",
       "</div>"
      ],
      "text/plain": [
       "              date   open   high    low  close    volume Name\n",
       "0       2013-02-08  15.07  15.12  14.63  14.75   8407500  AAL\n",
       "1       2013-02-11  14.89  15.01  14.26  14.46   8882000  AAL\n",
       "2       2013-02-12  14.45  14.51  14.10  14.27   8126000  AAL\n",
       "3       2013-02-13  14.30  14.94  14.25  14.66  10259500  AAL\n",
       "4       2013-02-14  14.94  14.96  13.16  13.99  31879900  AAL\n",
       "...            ...    ...    ...    ...    ...       ...  ...\n",
       "619035  2018-02-01  76.84  78.27  76.69  77.82   2982259  ZTS\n",
       "619036  2018-02-02  77.53  78.12  76.73  76.78   2595187  ZTS\n",
       "619037  2018-02-05  76.64  76.92  73.18  73.83   2962031  ZTS\n",
       "619038  2018-02-06  72.74  74.56  72.13  73.27   4924323  ZTS\n",
       "619039  2018-02-07  72.70  75.00  72.69  73.86   4534912  ZTS\n",
       "\n",
       "[619040 rows x 7 columns]"
      ]
     },
     "execution_count": 4,
     "metadata": {},
     "output_type": "execute_result"
    }
   ],
   "source": [
    "df"
   ]
  },
  {
   "cell_type": "code",
   "execution_count": 5,
   "id": "324db2a5",
   "metadata": {},
   "outputs": [],
   "source": [
    "AAPL = df.drop(df[df.Name != 'AAPL'].index)\n",
    "NVDA = df.drop(df[df.Name != 'NVDA'].index)\n",
    "AAPL_close = AAPL[['close', 'date']].copy()\n",
    "NVDA_close = NVDA[['close', 'date']].copy()"
   ]
  },
  {
   "cell_type": "code",
   "execution_count": 6,
   "id": "3514dc9d",
   "metadata": {},
   "outputs": [
    {
     "data": {
      "text/plain": [
       "<AxesSubplot:xlabel='date', ylabel='close'>"
      ]
     },
     "execution_count": 6,
     "metadata": {},
     "output_type": "execute_result"
    },
    {
     "data": {
      "image/png": "[encoded data removed]",
      "text/plain": [
       "<Figure size 432x288 with 1 Axes>"
      ]
     },
     "metadata": {},
     "output_type": "display_data"
    }
   ],
   "source": [
    "sb.lineplot(data = NVDA_close, x = 'date', y = 'close')"
   ]
  },
  {
   "cell_type": "code",
   "execution_count": 7,
   "id": "220cab77",
   "metadata": {},
   "outputs": [],
   "source": [
    "NVDA_open_close = NVDA[['close', 'open']].copy()"
   ]
  },
  {
   "cell_type": "code",
   "execution_count": 8,
   "id": "2603c9c9",
   "metadata": {},
   "outputs": [
    {
     "data": {
      "text/plain": [
       "<AxesSubplot:xlabel='open', ylabel='close'>"
      ]
     },
     "execution_count": 8,
     "metadata": {},
     "output_type": "execute_result"
    },
    {
     "data": {
      "image/png": "[encoded data removed]",
      "text/plain": [
       "<Figure size 432x288 with 1 Axes>"
      ]
     },
     "metadata": {},
     "output_type": "display_data"
    }
   ],
   "source": [
    "sb.lineplot(data = NVDA_open_close, x = 'open', y = 'close')"
   ]
  },
  {
   "cell_type": "code",
   "execution_count": 9,
   "id": "861e4fad",
   "metadata": {},
   "outputs": [
    {
     "data": {
      "text/plain": [
       "<AxesSubplot:xlabel='close', ylabel='Count'>"
      ]
     },
     "execution_count": 9,
     "metadata": {},
     "output_type": "execute_result"
    },
    {
     "data": {
      "image/png": "[encoded data removed]",
      "text/plain": [
       "<Figure size 432x288 with 1 Axes>"
      ]
     },
     "metadata": {},
     "output_type": "display_data"
    }
   ],
   "source": [
    "sb.histplot(data = NVDA['close'])"
   ]
  },
  {
   "cell_type": "code",
   "execution_count": 10,
   "id": "cc54cb0c",
   "metadata": {},
   "outputs": [
    {
     "data": {
      "text/plain": [
       "open      1.505020\n",
       "high      1.503523\n",
       "low       1.508566\n",
       "close     1.505411\n",
       "volume    3.345787\n",
       "dtype: float64"
      ]
     },
     "execution_count": 10,
     "metadata": {},
     "output_type": "execute_result"
    }
   ],
   "source": [
    "NVDA.skew()"
   ]
  },
  {
   "cell_type": "code",
   "execution_count": 12,
   "id": "99b00dc7",
   "metadata": {},
   "outputs": [],
   "source": [
    "df = pd.read_csv(\"stocks_with_RSI_EMA.csv\")\n",
    "df.drop(['Unnamed: 0'], axis = 1, inplace = True)\n",
    "\n",
    "NVDA = df.drop(df[df.Name != 'NVDA'].index)\n",
    "AAPL = df.drop(df[df.Name != 'AAPL'].index)\n",
    "\n",
    "dev_ema = [0] * 1259\n",
    "high_or_low = [0] * 1259\n",
    "movement = [0] * 1259\n",
    "movement_sign = [0] * 1259\n",
    "rsi_sign = [0] * 1259\n",
    "\n",
    "for i in range(1259):\n",
    "    dev_ema[i] = NVDA.iloc[i, 13] - NVDA.iloc[i, 4]\n",
    "    \n",
    "    if dev_ema[i] > 0:\n",
    "        high_or_low[i] = 1\n",
    "    if dev_ema[i] < 0:\n",
    "        high_or_low[i] = -1\n",
    "    \n",
    "    if (NVDA.iloc[i, 7] != 0) and (NVDA.iloc[i, 8] == 0):\n",
    "        movement[i] = NVDA.iloc[i, 7]\n",
    "        movement_sign[i] = 1\n",
    "    if (NVDA.iloc[i, 8] != 0) and (NVDA.iloc[i, 7] == 0):\n",
    "        movement[i] = -1 * NVDA.iloc[i, 8]\n",
    "        movement_sign[i] = -1\n",
    "    if (NVDA.iloc[i, 13] >= 70):\n",
    "        rsi_sign[i] = 1\n",
    "    if (NVDA.iloc[i, 13] <= 30):\n",
    "        rsi_sign[i] = -1\n",
    "\n",
    "NVDA['High or Low'] = high_or_low\n",
    "NVDA['DEV from EMA'] = dev_ema\n",
    "NVDA['Movement'] = movement\n",
    "NVDA['Movement sign'] = movement_sign\n",
    "NVDA['RSI sign'] = rsi_sign\n",
    "\n",
    "dev_ema = [0] * 1259\n",
    "high_or_low = [0] * 1259\n",
    "movement = [0] * 1259\n",
    "movement_sign = [0] * 1259\n",
    "rsi_sign = [0] * 1259\n",
    "\n",
    "for i in range(1259):\n",
    "    dev_ema[i] = AAPL.iloc[i, 13] - AAPL.iloc[i, 4]\n",
    "    \n",
    "    if dev_ema[i] > 0:\n",
    "        high_or_low[i] = 1\n",
    "    if dev_ema[i] < 0:\n",
    "        high_or_low[i] = -1\n",
    "    \n",
    "    if (AAPL.iloc[i, 7] != 0) and (AAPL.iloc[i, 8] == 0):\n",
    "        movement[i] = AAPL.iloc[i, 7]\n",
    "        movement_sign[i] = 1\n",
    "    if (AAPL.iloc[i, 8] != 0) and (AAPL.iloc[i, 7] == 0):\n",
    "        movement[i] = -1 * AAPL.iloc[i, 8]\n",
    "        movement_sign[i] = -1\n",
    "        \n",
    "    if (AAPL.iloc[i, 13] >= 70):\n",
    "        rsi_sign[i] = 1\n",
    "    if (AAPL.iloc[i, 13] <= 30):\n",
    "        rsi_sign[i] = -1\n",
    "\n",
    "AAPL['DEV from EMA'] = dev_ema\n",
    "AAPL['High or Low'] = high_or_low\n",
    "AAPL['Movement'] = movement\n",
    "AAPL['Movement sign'] = movement_sign\n",
    "AAPL['RSI sign'] = rsi_sign"
   ]
  },
  {
   "cell_type": "code",
   "execution_count": 16,
   "id": "15e405a2",
   "metadata": {},
   "outputs": [
    {
     "data": {
      "text/plain": [
       "<AxesSubplot:xlabel='Movement', ylabel='Count'>"
      ]
     },
     "execution_count": 16,
     "metadata": {},
     "output_type": "execute_result"
    },
    {
     "data": {
      "image/png": "[encoded data removed]",
      "text/plain": [
       "<Figure size 432x288 with 1 Axes>"
      ]
     },
     "metadata": {},
     "output_type": "display_data"
    }
   ],
   "source": [
    "NVDA_mov = NVDA[['Movement', 'date']].copy()\n",
    "sb.histplot(data = NVDA['Movement'])"
   ]
  },
  {
   "cell_type": "code",
   "execution_count": 14,
   "id": "2d7bddd2",
   "metadata": {},
   "outputs": [
    {
     "data": {
      "text/plain": [
       "<AxesSubplot:xlabel='date', ylabel='Movement'>"
      ]
     },
     "execution_count": 14,
     "metadata": {},
     "output_type": "execute_result"
    },
    {
     "data": {
      "image/png": "[encoded data removed]",
      "text/plain": [
       "<Figure size 432x288 with 1 Axes>"
      ]
     },
     "metadata": {},
     "output_type": "display_data"
    }
   ],
   "source": [
    "sb.lineplot(data = NVDA_mov, x = 'date', y = 'Movement')"
   ]
  },
  {
   "cell_type": "code",
   "execution_count": null,
   "id": "6e3f0421",
   "metadata": {},
   "outputs": [],
   "source": []
  }
 ],
 "metadata": {
  "kernelspec": {
   "display_name": "Python 3",
   "language": "python",
   "name": "python3"
  },
  "language_info": {
   "codemirror_mode": {
    "name": "ipython",
    "version": 3
   },
   "file_extension": ".py",
   "mimetype": "text/x-python",
   "name": "python",
   "nbconvert_exporter": "python",
   "pygments_lexer": "ipython3",
   "version": "3.8.8"
  }
 },
 "nbformat": 4,
 "nbformat_minor": 5
}
